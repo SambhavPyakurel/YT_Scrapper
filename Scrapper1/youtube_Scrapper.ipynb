{
 "cells": [
  {
   "cell_type": "code",
   "execution_count": 2,
   "id": "138b91b8-6cdf-4316-b08f-3a7641ae5db7",
   "metadata": {},
   "outputs": [
    {
     "name": "stdout",
     "output_type": "stream",
     "text": [
      "Collecting google-api-python-client\n",
      "  Downloading google_api_python_client-2.92.0-py2.py3-none-any.whl (11.4 MB)\n",
      "\u001b[2K     \u001b[90m━━━━━━━━━━━━━━━━━━━━━━━━━━━━━━━━━━━━━━━━\u001b[0m \u001b[32m11.4/11.4 MB\u001b[0m \u001b[31m73.1 MB/s\u001b[0m eta \u001b[36m0:00:00\u001b[0m00:01\u001b[0m00:01\u001b[0m\n",
      "\u001b[?25hCollecting httplib2<1.dev0,>=0.15.0\n",
      "  Downloading httplib2-0.22.0-py3-none-any.whl (96 kB)\n",
      "\u001b[2K     \u001b[90m━━━━━━━━━━━━━━━━━━━━━━━━━━━━━━━━━━━━━━━━\u001b[0m \u001b[32m96.9/96.9 kB\u001b[0m \u001b[31m17.8 MB/s\u001b[0m eta \u001b[36m0:00:00\u001b[0m\n",
      "\u001b[?25hCollecting google-auth<3.0.0.dev0,>=1.19.0\n",
      "  Downloading google_auth-2.21.0-py2.py3-none-any.whl (182 kB)\n",
      "\u001b[2K     \u001b[90m━━━━━━━━━━━━━━━━━━━━━━━━━━━━━━━━━━━━━━\u001b[0m \u001b[32m182.1/182.1 kB\u001b[0m \u001b[31m26.5 MB/s\u001b[0m eta \u001b[36m0:00:00\u001b[0m\n",
      "\u001b[?25hCollecting google-auth-httplib2>=0.1.0\n",
      "  Downloading google_auth_httplib2-0.1.0-py2.py3-none-any.whl (9.3 kB)\n",
      "Collecting google-api-core!=2.0.*,!=2.1.*,!=2.2.*,!=2.3.0,<3.0.0.dev0,>=1.31.5\n",
      "  Downloading google_api_core-2.11.1-py3-none-any.whl (120 kB)\n",
      "\u001b[2K     \u001b[90m━━━━━━━━━━━━━━━━━━━━━━━━━━━━━━━━━━━━━━\u001b[0m \u001b[32m120.5/120.5 kB\u001b[0m \u001b[31m20.3 MB/s\u001b[0m eta \u001b[36m0:00:00\u001b[0m\n",
      "\u001b[?25hCollecting uritemplate<5,>=3.0.1\n",
      "  Downloading uritemplate-4.1.1-py2.py3-none-any.whl (10 kB)\n",
      "Requirement already satisfied: protobuf!=3.20.0,!=3.20.1,!=4.21.0,!=4.21.1,!=4.21.2,!=4.21.3,!=4.21.4,!=4.21.5,<5.0.0.dev0,>=3.19.5 in /opt/conda/lib/python3.10/site-packages (from google-api-core!=2.0.*,!=2.1.*,!=2.2.*,!=2.3.0,<3.0.0.dev0,>=1.31.5->google-api-python-client) (4.21.11)\n",
      "Collecting googleapis-common-protos<2.0.dev0,>=1.56.2\n",
      "  Downloading googleapis_common_protos-1.59.1-py2.py3-none-any.whl (224 kB)\n",
      "\u001b[2K     \u001b[90m━━━━━━━━━━━━━━━━━━━━━━━━━━━━━━━━━━━━━━\u001b[0m \u001b[32m224.5/224.5 kB\u001b[0m \u001b[31m30.9 MB/s\u001b[0m eta \u001b[36m0:00:00\u001b[0m\n",
      "\u001b[?25hRequirement already satisfied: requests<3.0.0.dev0,>=2.18.0 in /opt/conda/lib/python3.10/site-packages (from google-api-core!=2.0.*,!=2.1.*,!=2.2.*,!=2.3.0,<3.0.0.dev0,>=1.31.5->google-api-python-client) (2.28.1)\n",
      "Requirement already satisfied: six>=1.9.0 in /opt/conda/lib/python3.10/site-packages (from google-auth<3.0.0.dev0,>=1.19.0->google-api-python-client) (1.16.0)\n",
      "Requirement already satisfied: urllib3<2.0 in /opt/conda/lib/python3.10/site-packages (from google-auth<3.0.0.dev0,>=1.19.0->google-api-python-client) (1.26.13)\n",
      "Collecting pyasn1-modules>=0.2.1\n",
      "  Downloading pyasn1_modules-0.3.0-py2.py3-none-any.whl (181 kB)\n",
      "\u001b[2K     \u001b[90m━━━━━━━━━━━━━━━━━━━━━━━━━━━━━━━━━━━━━━\u001b[0m \u001b[32m181.3/181.3 kB\u001b[0m \u001b[31m24.8 MB/s\u001b[0m eta \u001b[36m0:00:00\u001b[0m\n",
      "\u001b[?25hCollecting rsa<5,>=3.1.4\n",
      "  Downloading rsa-4.9-py3-none-any.whl (34 kB)\n",
      "Collecting cachetools<6.0,>=2.0.0\n",
      "  Downloading cachetools-5.3.1-py3-none-any.whl (9.3 kB)\n",
      "Requirement already satisfied: pyparsing!=3.0.0,!=3.0.1,!=3.0.2,!=3.0.3,<4,>=2.4.2 in /opt/conda/lib/python3.10/site-packages (from httplib2<1.dev0,>=0.15.0->google-api-python-client) (3.0.9)\n",
      "Collecting pyasn1<0.6.0,>=0.4.6\n",
      "  Downloading pyasn1-0.5.0-py2.py3-none-any.whl (83 kB)\n",
      "\u001b[2K     \u001b[90m━━━━━━━━━━━━━━━━━━━━━━━━━━━━━━━━━━━━━━━━\u001b[0m \u001b[32m83.9/83.9 kB\u001b[0m \u001b[31m16.1 MB/s\u001b[0m eta \u001b[36m0:00:00\u001b[0m\n",
      "\u001b[?25hRequirement already satisfied: idna<4,>=2.5 in /opt/conda/lib/python3.10/site-packages (from requests<3.0.0.dev0,>=2.18.0->google-api-core!=2.0.*,!=2.1.*,!=2.2.*,!=2.3.0,<3.0.0.dev0,>=1.31.5->google-api-python-client) (3.4)\n",
      "Requirement already satisfied: charset-normalizer<3,>=2 in /opt/conda/lib/python3.10/site-packages (from requests<3.0.0.dev0,>=2.18.0->google-api-core!=2.0.*,!=2.1.*,!=2.2.*,!=2.3.0,<3.0.0.dev0,>=1.31.5->google-api-python-client) (2.1.1)\n",
      "Requirement already satisfied: certifi>=2017.4.17 in /opt/conda/lib/python3.10/site-packages (from requests<3.0.0.dev0,>=2.18.0->google-api-core!=2.0.*,!=2.1.*,!=2.2.*,!=2.3.0,<3.0.0.dev0,>=1.31.5->google-api-python-client) (2022.12.7)\n",
      "Installing collected packages: uritemplate, pyasn1, httplib2, googleapis-common-protos, cachetools, rsa, pyasn1-modules, google-auth, google-auth-httplib2, google-api-core, google-api-python-client\n",
      "Successfully installed cachetools-5.3.1 google-api-core-2.11.1 google-api-python-client-2.92.0 google-auth-2.21.0 google-auth-httplib2-0.1.0 googleapis-common-protos-1.59.1 httplib2-0.22.0 pyasn1-0.5.0 pyasn1-modules-0.3.0 rsa-4.9 uritemplate-4.1.1\n",
      "Note: you may need to restart the kernel to use updated packages.\n"
     ]
    }
   ],
   "source": [
    "pip install google-api-python-client"
   ]
  },
  {
   "cell_type": "code",
   "execution_count": 38,
   "id": "a2d399e3-38eb-40c0-8d39-9d1fcef385ce",
   "metadata": {},
   "outputs": [],
   "source": [
    "import googleapiclient.discovery\n",
    "import googleapiclient.errors\n",
    "\n",
    "# Set your API key\n",
    "API_KEY = 'Your API key'\n",
    "\n",
    "# Set the channel ID\n",
    "channel_id = 'UCphU2bAGmw304CFAzy0Enuw'\n",
    "\n",
    "# Create a YouTube API client\n",
    "youtube = googleapiclient.discovery.build('youtube', 'v3', developerKey=API_KEY)\n"
   ]
  },
  {
   "cell_type": "code",
   "execution_count": 4,
   "id": "b4dd9681-3dd2-41f5-b2e2-9ef1004a5fa4",
   "metadata": {},
   "outputs": [
    {
     "name": "stdout",
     "output_type": "stream",
     "text": [
      "['https://www.youtube.com/watch?v=7D-yBoXbJdE', 'https://www.youtube.com/watch?v=SJXg12-3eNw', 'https://www.youtube.com/watch?v=Q1VVgfbd8i0', 'https://www.youtube.com/watch?v=HqG2QchBw8Y', 'https://www.youtube.com/watch?v=I_CnERi_YAs']\n"
     ]
    }
   ],
   "source": [
    "def extract_video_urls(channel_id, youtube):\n",
    "    request = youtube.search().list(\n",
    "        part='id',\n",
    "        channelId=channel_id,\n",
    "        maxResults=5,\n",
    "        order='date',\n",
    "        type='video'\n",
    "    )\n",
    "    response = request.execute()\n",
    "\n",
    "    video_urls = []\n",
    "    for item in response['items']:\n",
    "        video_id = item['id']['videoId']\n",
    "        video_url = f'https://www.youtube.com/watch?v={video_id}'\n",
    "        video_urls.append(video_url)\n",
    "\n",
    "    return video_urls\n",
    "\n",
    "video_urls = extract_video_urls(channel_id, youtube)\n",
    "print(video_urls)"
   ]
  },
  {
   "cell_type": "code",
   "execution_count": 6,
   "id": "2bf6c9ca-97ad-454b-abc8-f9d8addc7358",
   "metadata": {},
   "outputs": [
    {
     "name": "stdout",
     "output_type": "stream",
     "text": [
      "['https://i.ytimg.com/vi/7D-yBoXbJdE/default.jpg', 'https://i.ytimg.com/vi/SJXg12-3eNw/default.jpg', 'https://i.ytimg.com/vi/Q1VVgfbd8i0/default.jpg', 'https://i.ytimg.com/vi/HqG2QchBw8Y/default.jpg', 'https://i.ytimg.com/vi/I_CnERi_YAs/default.jpg']\n"
     ]
    }
   ],
   "source": [
    "def extract_thumbnail_urls(channel_id, youtube):\n",
    "    request = youtube.search().list(\n",
    "        part='snippet',\n",
    "        channelId=channel_id,\n",
    "        maxResults=5,\n",
    "        order='date',\n",
    "        type='video'\n",
    "    )\n",
    "    response = request.execute()\n",
    "\n",
    "    thumbnail_urls = []\n",
    "    for item in response['items']:\n",
    "        thumbnail_url = item['snippet']['thumbnails']['default']['url']\n",
    "        thumbnail_urls.append(thumbnail_url)\n",
    "\n",
    "    return thumbnail_urls\n",
    "\n",
    "thumbnail_urls = extract_thumbnail_urls(channel_id, youtube)\n",
    "print(thumbnail_urls)"
   ]
  },
  {
   "cell_type": "code",
   "execution_count": 7,
   "id": "fc8f62e2-99f4-49ff-856c-253a23264d91",
   "metadata": {},
   "outputs": [
    {
     "name": "stdout",
     "output_type": "stream",
     "text": [
      "['Class 9th Chemistry : Make Your Basics Super Strong || Back To Basics || Must Watch 🔥', 'Class 9th English : Make Your Basics Super Strong || Back To Basics || Must Watch 🔥', 'Class 9th SST : Make Your Basics Super Strong || Back To Basics || Must Watch 🔥', 'Launching FUNDO For Class - 6th to 8th Students 🔥💯 || Ab Hoga Padhai Ke Sath FUN 🤩', 'इस Guru Purnima क्या होने वाला है खास..!!🤩📚 #PWShorts #PhysicsWallah']\n"
     ]
    }
   ],
   "source": [
    "def extract_video_titles(channel_id, youtube):\n",
    "    request = youtube.search().list(\n",
    "        part='snippet',\n",
    "        channelId=channel_id,\n",
    "        maxResults=5,\n",
    "        order='date',\n",
    "        type='video'\n",
    "    )\n",
    "    response = request.execute()\n",
    "\n",
    "    video_titles = []\n",
    "    for item in response['items']:\n",
    "        video_title = item['snippet']['title']\n",
    "        video_titles.append(video_title)\n",
    "\n",
    "    return video_titles\n",
    "\n",
    "video_titles = extract_video_titles(channel_id, youtube)\n",
    "print(video_titles)"
   ]
  },
  {
   "cell_type": "code",
   "execution_count": 39,
   "id": "e64b0719-d53a-4507-b861-17f7a15ba75e",
   "metadata": {},
   "outputs": [
    {
     "name": "stdout",
     "output_type": "stream",
     "text": [
      "['25358', '19983', '25929', '19410', '50352']\n"
     ]
    }
   ],
   "source": [
    "def extract_video_views(channel_id, youtube):\n",
    "    request = youtube.search().list(\n",
    "        part='id',\n",
    "        channelId=channel_id,\n",
    "        maxResults=5,\n",
    "        order='date',\n",
    "        type='video'\n",
    "    )\n",
    "    response = request.execute()\n",
    "\n",
    "    video_ids = [item['id']['videoId'] for item in response['items']]\n",
    "    video_stats = youtube.videos().list(\n",
    "        part='statistics',\n",
    "        id=','.join(video_ids)\n",
    "    ).execute()\n",
    "\n",
    "    video_views = []\n",
    "    for item in video_stats['items']:\n",
    "        video_view_count = item['statistics']['viewCount']\n",
    "        video_views.append(video_view_count)\n",
    "\n",
    "    return video_views\n",
    "\n",
    "video_views = extract_video_views(channel_id, youtube)\n",
    "print(video_views)"
   ]
  },
  {
   "cell_type": "code",
   "execution_count": 40,
   "id": "aeca2f47-f32d-4240-a751-7d4f8aaceb10",
   "metadata": {},
   "outputs": [
    {
     "name": "stdout",
     "output_type": "stream",
     "text": [
      "['2023-07-08T13:35:27Z', '2023-07-07T14:49:59Z', '2023-07-06T16:31:26Z', '2023-07-05T12:30:07Z', '2023-07-03T14:38:57Z']\n"
     ]
    }
   ],
   "source": [
    "def extract_upload_times(channel_id, youtube):\n",
    "    request = youtube.search().list(\n",
    "        part='snippet',\n",
    "        channelId=channel_id,\n",
    "        maxResults=5,\n",
    "        order='date',\n",
    "        type='video'\n",
    "    )\n",
    "    response = request.execute()\n",
    "\n",
    "    upload_times = []\n",
    "    for item in response['items']:\n",
    "        video_id = item['id']['videoId']\n",
    "        video_request = youtube.videos().list(\n",
    "            part='snippet',\n",
    "            id=video_id\n",
    "        )\n",
    "        video_response = video_request.execute()\n",
    "        video_time = video_response['items'][0]['snippet']['publishedAt']\n",
    "        upload_times.append(video_time)\n",
    "\n",
    "    return upload_times\n",
    "\n",
    "upload_times = extract_upload_times(channel_id, youtube)\n",
    "print(upload_times)\n"
   ]
  },
  {
   "cell_type": "code",
   "execution_count": 41,
   "id": "b55224f3-5b77-4292-84ac-affbd24e91af",
   "metadata": {},
   "outputs": [],
   "source": [
    "import csv"
   ]
  },
  {
   "cell_type": "code",
   "execution_count": 62,
   "id": "ac1ad875-21e2-4b96-8c4b-6addc8585d3b",
   "metadata": {},
   "outputs": [],
   "source": [
    "data=[['Video','Thumbnail','Title','views','time'],\n",
    "      [video_urls,thumbnail_urls,video_titles,video_views,upload_times]\n",
    "]"
   ]
  },
  {
   "cell_type": "code",
   "execution_count": 63,
   "id": "91e91b3a-2946-46d2-8463-929d557e91df",
   "metadata": {},
   "outputs": [],
   "source": [
    "with open('storage.csv','w') as f:\n",
    "    w=csv.writer(f)\n",
    "    w.writerow(data[0])\n",
    "    for i in data[1:]:\n",
    "        if type(i)==list:\n",
    "            for j in i:\n",
    "                w.writerow(j) \n",
    "            "
   ]
  },
  {
   "cell_type": "code",
   "execution_count": 54,
   "id": "f5740cde-57ac-4f86-af90-8670b1788015",
   "metadata": {},
   "outputs": [
    {
     "data": {
      "text/plain": [
       "['Video', 'Thumbnail', 'Title', 'views', 'time']"
      ]
     },
     "execution_count": 54,
     "metadata": {},
     "output_type": "execute_result"
    }
   ],
   "source": [
    "data[0]"
   ]
  },
  {
   "cell_type": "code",
   "execution_count": 67,
   "id": "623a8af5-2afe-49bd-8210-07b7af298d3c",
   "metadata": {},
   "outputs": [],
   "source": [
    "data=['Video','Thumbnail','Title','views','time']\n",
    "data1=zip(video_urls,thumbnail_urls,video_titles,video_views,upload_times)"
   ]
  },
  {
   "cell_type": "code",
   "execution_count": 68,
   "id": "397c2923-d20b-406b-a736-dab366371f63",
   "metadata": {},
   "outputs": [],
   "source": [
    "with open('storage.csv','w') as f1:\n",
    "    w=csv.writer(f1)\n",
    "    w.writerow(data)\n",
    "    w.writerows(data1)"
   ]
  },
  {
   "cell_type": "code",
   "execution_count": null,
   "id": "79a380b5-d9e4-490e-ae0d-90601f42b7b4",
   "metadata": {},
   "outputs": [],
   "source": []
  }
 ],
 "metadata": {
  "kernelspec": {
   "display_name": "Python 3 (ipykernel)",
   "language": "python",
   "name": "python3"
  },
  "language_info": {
   "codemirror_mode": {
    "name": "ipython",
    "version": 3
   },
   "file_extension": ".py",
   "mimetype": "text/x-python",
   "name": "python",
   "nbconvert_exporter": "python",
   "pygments_lexer": "ipython3",
   "version": "3.10.8"
  }
 },
 "nbformat": 4,
 "nbformat_minor": 5
}
